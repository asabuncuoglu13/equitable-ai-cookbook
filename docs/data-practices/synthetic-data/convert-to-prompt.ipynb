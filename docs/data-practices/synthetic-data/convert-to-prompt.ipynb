{
 "cells": [
  {
   "cell_type": "markdown",
   "metadata": {},
   "source": [
    "# Creating an Instruction Tuning Dataset for ESG-specialised Model Development\n",
    "\n",
    "We'll develop a new 'fine-tuned' specialised model with ESG (Environmental, Social, and Governance) analysis capability based on provided news articles. Some ESG datasets are puclicly accessible, categorizing news content and headlines according to ESG impact scores and topics. In this tutorial, we'll demonstrate how to convert one of these datasets into an \"instructions\" format prior to fine-tuning our model. \n",
    "\n",
    "Here is a nice explanation of instruction tuning requirements, with some model specific technical details: <https://ai.google.dev/responsible/safety_tuning>"
   ]
  },
  {
   "cell_type": "code",
   "execution_count": 6,
   "metadata": {},
   "outputs": [],
   "source": [
    "import json\n",
    "import csv"
   ]
  },
  {
   "cell_type": "code",
   "execution_count": null,
   "metadata": {},
   "outputs": [],
   "source": [
    "!git clone https://github.com/ymntseng/DynamicESG.git\n",
    "!mv DynamicESG/ ../data"
   ]
  },
  {
   "cell_type": "code",
   "execution_count": 3,
   "metadata": {},
   "outputs": [],
   "source": [
    "json_file = '../data/DynamicESG_dataset.json'\n",
    "with open(json_file, 'r') as f:\n",
    "        data = json.load(f)"
   ]
  },
  {
   "cell_type": "code",
   "execution_count": 10,
   "metadata": {},
   "outputs": [
    {
     "data": {
      "text/plain": [
       "['URL', 'News_Headline', 'Impact_Type', 'Impact_Duration', 'ESG_Category']"
      ]
     },
     "execution_count": 10,
     "metadata": {},
     "output_type": "execute_result"
    }
   ],
   "source": [
    "keys = list(data[0].keys())\n",
    "keys"
   ]
  },
  {
   "cell_type": "code",
   "execution_count": 5,
   "metadata": {},
   "outputs": [
    {
     "data": {
      "text/plain": [
       "{'URL': 'https://esg.businesstoday.com.tw/article/category/180687/post/202211170005',\n",
       " 'News_Headline': '台達電前進COP27！LED照養試管珊瑚，台達珊瑚復育傳入聯合國',\n",
       " 'Impact_Type': ['Opportunity', 'Risk'],\n",
       " 'Impact_Duration': ['>5', '>5'],\n",
       " 'ESG_Category': [['E01', 'E04'], ['E04', 'E07']]}"
      ]
     },
     "execution_count": 5,
     "metadata": {},
     "output_type": "execute_result"
    }
   ],
   "source": [
    "data[0]"
   ]
  },
  {
   "cell_type": "code",
   "execution_count": 11,
   "metadata": {},
   "outputs": [
    {
     "name": "stdout",
     "output_type": "stream",
     "text": [
      "You are an ESG specialist with the expertise to identify Impact_Type, Impact_Duration, and ESG_Category. Impact_Type can be only one of three categories: \"Opportunity\", \"Risk\", and \"Cannot_Distinguish\". Impact_Duration can be only one of three categories \"<2\", \"2~5\" or \">5\". The ESG_Category can be only one of ten categories: \"Climate_Change\", \"Natural_Capital\", \"Pollution_Waste\", \"Env_Opportunity\", \"Human_Capital\", \"Product_Liability\", \"Stakeholder_Opposition\", \"Social_Opportunity\" and \"Corporate Governance\". Based on the given News_Headline define Impact_Type, Impact_Duration, and ESG_Category. Your answer should only contain a key-value pair like the example below.\n",
      "Example: \"News_Headline\":\"台達電前進COP27！LED照養試管珊瑚，台達珊瑚復育傳入聯合國\" Answer: Impact_Type:\"Opportunity\" Impact_Duration:\">5\" ESG_Category:\"Climate_Change\"\n",
      "\"News_Headline\":台達電前進COP27！LED照養試管珊瑚，台達珊瑚復育傳入聯合國 Answer:\n",
      "You are an ESG specialist with the expertise to identify Impact_Type, Impact_Duration, and ESG_Category. Impact_Type can be only one of three categories: \"Opportunity\", \"Risk\", and \"Cannot_Distinguish\". Impact_Duration can be only one of three categories \"<2\", \"2~5\" or \">5\". The ESG_Category can be only one of ten categories: \"Climate_Change\", \"Natural_Capital\", \"Pollution_Waste\", \"Env_Opportunity\", \"Human_Capital\", \"Product_Liability\", \"Stakeholder_Opposition\", \"Social_Opportunity\" and \"Corporate Governance\". Based on the given News_Headline define Impact_Type, Impact_Duration, and ESG_Category. Your answer should only contain a key-value pair like the example below.\n",
      "Example: \"News_Headline\":\"台達電前進COP27！LED照養試管珊瑚，台達珊瑚復育傳入聯合國\" Answer: Impact_Type:\"Opportunity\" Impact_Duration:\">5\" ESG_Category:\"Climate_Change\"\n",
      "\"News_Headline\":下單後一個月才收貨，為什麼有人買單？這家「慢時尚」地毯公司顛覆銷售流程，將廢物變黃金 Answer:\n"
     ]
    }
   ],
   "source": [
    "for i in range(2):\n",
    "    prompt_template = f'You are an ESG specialist with the expertise to identify {keys[2]}, {keys[3]}, and {keys[4]}. {keys[2]} can be only one of three categories: \"Opportunity\", \"Risk\", and \"Cannot_Distinguish\". {keys[3]} can be only one of three categories \"<2\", \"2~5\" or \">5\". The {keys[4]} can be only one of ten categories: \"Climate_Change\", \"Natural_Capital\", \"Pollution_Waste\", \"Env_Opportunity\", \"Human_Capital\", \"Product_Liability\", \"Stakeholder_Opposition\", \"Social_Opportunity\" and \"Corporate Governance\". Based on the given {keys[1]} define {keys[2]}, {keys[3]}, and {keys[4]}. Your answer should only contain a key-value pair like the example below.\\nExample: \"News_Headline\":\"台達電前進COP27！LED照養試管珊瑚，台達珊瑚復育傳入聯合國\" Answer: {keys[2]}:\"Opportunity\" {keys[3]}:\">5\" {keys[4]}:\"Climate_Change\"'\n",
    "    print(prompt_template)\n",
    "    # add this prompt to the data object\n",
    "    data[i]['instruction'] = prompt_template"
   ]
  },
  {
   "cell_type": "code",
   "execution_count": 12,
   "metadata": {},
   "outputs": [],
   "source": [
    "csv_file = '../data/DynamicESG_instruction.csv'\n",
    "\n",
    "# save the data to csv\n",
    "with open(csv_file, 'w') as f:\n",
    "    writer = csv.writer(f)\n",
    "    writer.writerow(keys)\n",
    "    for d in data:\n",
    "        writer.writerow(list(d.values()))"
   ]
  },
  {
   "cell_type": "code",
   "execution_count": 18,
   "metadata": {},
   "outputs": [
    {
     "name": "stdout",
     "output_type": "stream",
     "text": [
      "Dataset URL: https://www.kaggle.com/datasets/equintel/dax-esg-media-dataset\n",
      "License(s): unknown\n",
      "Downloading dax-esg-media-dataset.zip to /Users/asabuncuoglu/Documents/equitable-ai-cookbook/docs/development\n",
      " 99%|█████████████████████████████████████▊| 38.0M/38.2M [00:02<00:00, 14.7MB/s]\n",
      "100%|██████████████████████████████████████| 38.2M/38.2M [00:02<00:00, 16.3MB/s]\n",
      "Archive:  ../data/dax-esg-media-dataset.zip\n",
      "  inflating: ../data/dax-esg-media-dataset/esg_documents_for_dax_companies.csv  \n",
      "  inflating: ../data/dax-esg-media-dataset/sdg_descriptions_with_targetsText.csv  \n"
     ]
    }
   ],
   "source": [
    "# Let's explore a different dataset, this time it is a Kaggle dataset\n",
    "!kaggle datasets download -d equintel/dax-esg-media-dataset\n",
    "!mv dax-esg-media-dataset.zip ../data\n",
    "!unzip ../data/dax-esg-media-dataset.zip -d ../data/dax-esg-media-dataset\n",
    "!rm ../data/dax-esg-media-dataset.zip"
   ]
  },
  {
   "cell_type": "code",
   "execution_count": 20,
   "metadata": {},
   "outputs": [],
   "source": [
    "# read the csv file with pandas\n",
    "import pandas as pd\n",
    "csv_file = '../data/dax-esg-media-dataset/esg_documents_for_dax_companies.csv'\n",
    "df_esg = pd.read_csv(csv_file, on_bad_lines='skip', delimiter=\"|\", encoding='latin1')"
   ]
  },
  {
   "cell_type": "code",
   "execution_count": 21,
   "metadata": {},
   "outputs": [
    {
     "data": {
      "text/html": [
       "<div>\n",
       "<style scoped>\n",
       "    .dataframe tbody tr th:only-of-type {\n",
       "        vertical-align: middle;\n",
       "    }\n",
       "\n",
       "    .dataframe tbody tr th {\n",
       "        vertical-align: top;\n",
       "    }\n",
       "\n",
       "    .dataframe thead th {\n",
       "        text-align: right;\n",
       "    }\n",
       "</style>\n",
       "<table border=\"1\" class=\"dataframe\">\n",
       "  <thead>\n",
       "    <tr style=\"text-align: right;\">\n",
       "      <th></th>\n",
       "      <th>Unnamed: 0</th>\n",
       "      <th>internal</th>\n",
       "    </tr>\n",
       "  </thead>\n",
       "  <tbody>\n",
       "    <tr>\n",
       "      <th>count</th>\n",
       "      <td>11548.000000</td>\n",
       "      <td>11548.000000</td>\n",
       "    </tr>\n",
       "    <tr>\n",
       "      <th>mean</th>\n",
       "      <td>5682.517406</td>\n",
       "      <td>0.007967</td>\n",
       "    </tr>\n",
       "    <tr>\n",
       "      <th>std</th>\n",
       "      <td>3332.037359</td>\n",
       "      <td>0.088904</td>\n",
       "    </tr>\n",
       "    <tr>\n",
       "      <th>min</th>\n",
       "      <td>0.000000</td>\n",
       "      <td>0.000000</td>\n",
       "    </tr>\n",
       "    <tr>\n",
       "      <th>25%</th>\n",
       "      <td>2794.750000</td>\n",
       "      <td>0.000000</td>\n",
       "    </tr>\n",
       "    <tr>\n",
       "      <th>50%</th>\n",
       "      <td>5681.500000</td>\n",
       "      <td>0.000000</td>\n",
       "    </tr>\n",
       "    <tr>\n",
       "      <th>75%</th>\n",
       "      <td>8568.250000</td>\n",
       "      <td>0.000000</td>\n",
       "    </tr>\n",
       "    <tr>\n",
       "      <th>max</th>\n",
       "      <td>11455.000000</td>\n",
       "      <td>1.000000</td>\n",
       "    </tr>\n",
       "  </tbody>\n",
       "</table>\n",
       "</div>"
      ],
      "text/plain": [
       "         Unnamed: 0      internal\n",
       "count  11548.000000  11548.000000\n",
       "mean    5682.517406      0.007967\n",
       "std     3332.037359      0.088904\n",
       "min        0.000000      0.000000\n",
       "25%     2794.750000      0.000000\n",
       "50%     5681.500000      0.000000\n",
       "75%     8568.250000      0.000000\n",
       "max    11455.000000      1.000000"
      ]
     },
     "execution_count": 21,
     "metadata": {},
     "output_type": "execute_result"
    }
   ],
   "source": [
    "df_esg.describe()"
   ]
  },
  {
   "cell_type": "code",
   "execution_count": 22,
   "metadata": {},
   "outputs": [
    {
     "data": {
      "text/html": [
       "<div>\n",
       "<style scoped>\n",
       "    .dataframe tbody tr th:only-of-type {\n",
       "        vertical-align: middle;\n",
       "    }\n",
       "\n",
       "    .dataframe tbody tr th {\n",
       "        vertical-align: top;\n",
       "    }\n",
       "\n",
       "    .dataframe thead th {\n",
       "        text-align: right;\n",
       "    }\n",
       "</style>\n",
       "<table border=\"1\" class=\"dataframe\">\n",
       "  <thead>\n",
       "    <tr style=\"text-align: right;\">\n",
       "      <th></th>\n",
       "      <th>Unnamed: 0</th>\n",
       "      <th>company</th>\n",
       "      <th>content</th>\n",
       "      <th>datatype</th>\n",
       "      <th>date</th>\n",
       "      <th>domain</th>\n",
       "      <th>esg_topics</th>\n",
       "      <th>internal</th>\n",
       "      <th>symbol</th>\n",
       "      <th>title</th>\n",
       "      <th>url</th>\n",
       "    </tr>\n",
       "  </thead>\n",
       "  <tbody>\n",
       "    <tr>\n",
       "      <th>0</th>\n",
       "      <td>2</td>\n",
       "      <td>Beiersdorf AG</td>\n",
       "      <td>Sustainability Highlight Report CARE BEYOND SK...</td>\n",
       "      <td>sustainability_report</td>\n",
       "      <td>2021-03-31</td>\n",
       "      <td>NaN</td>\n",
       "      <td>['CleanWater', 'GHGEmission', 'ProductLiabilit...</td>\n",
       "      <td>1</td>\n",
       "      <td>BEI</td>\n",
       "      <td>BeiersdorfAG Sustainability Report 2021</td>\n",
       "      <td>NaN</td>\n",
       "    </tr>\n",
       "    <tr>\n",
       "      <th>1</th>\n",
       "      <td>3</td>\n",
       "      <td>Deutsche Telekom AG</td>\n",
       "      <td>Corporate Responsibility Report 2021 2 Content...</td>\n",
       "      <td>sustainability_report</td>\n",
       "      <td>2021-03-31</td>\n",
       "      <td>NaN</td>\n",
       "      <td>['DataSecurity', 'Iso50001', 'GlobalWarming', ...</td>\n",
       "      <td>1</td>\n",
       "      <td>DTE</td>\n",
       "      <td>DeutscheTelekomAG Sustainability Report 2021</td>\n",
       "      <td>NaN</td>\n",
       "    </tr>\n",
       "  </tbody>\n",
       "</table>\n",
       "</div>"
      ],
      "text/plain": [
       "   Unnamed: 0              company  \\\n",
       "0           2        Beiersdorf AG   \n",
       "1           3  Deutsche Telekom AG   \n",
       "\n",
       "                                             content               datatype  \\\n",
       "0  Sustainability Highlight Report CARE BEYOND SK...  sustainability_report   \n",
       "1  Corporate Responsibility Report 2021 2 Content...  sustainability_report   \n",
       "\n",
       "         date domain                                         esg_topics  \\\n",
       "0  2021-03-31    NaN  ['CleanWater', 'GHGEmission', 'ProductLiabilit...   \n",
       "1  2021-03-31    NaN  ['DataSecurity', 'Iso50001', 'GlobalWarming', ...   \n",
       "\n",
       "   internal symbol                                         title  url  \n",
       "0         1    BEI       BeiersdorfAG Sustainability Report 2021  NaN  \n",
       "1         1    DTE  DeutscheTelekomAG Sustainability Report 2021  NaN  "
      ]
     },
     "execution_count": 22,
     "metadata": {},
     "output_type": "execute_result"
    }
   ],
   "source": [
    "df_esg.head(2)"
   ]
  },
  {
   "cell_type": "code",
   "execution_count": 24,
   "metadata": {},
   "outputs": [],
   "source": [
    "# read the csv file with pandas\n",
    "import pandas as pd\n",
    "csv_file = '../data/dax-esg-media-dataset/sdg_descriptions_with_targetsText.csv'\n",
    "df_sdg = pd.read_csv(csv_file, on_bad_lines='skip', encoding='latin1')"
   ]
  },
  {
   "cell_type": "code",
   "execution_count": 25,
   "metadata": {},
   "outputs": [
    {
     "data": {
      "text/html": [
       "<div>\n",
       "<style scoped>\n",
       "    .dataframe tbody tr th:only-of-type {\n",
       "        vertical-align: middle;\n",
       "    }\n",
       "\n",
       "    .dataframe tbody tr th {\n",
       "        vertical-align: top;\n",
       "    }\n",
       "\n",
       "    .dataframe thead th {\n",
       "        text-align: right;\n",
       "    }\n",
       "</style>\n",
       "<table border=\"1\" class=\"dataframe\">\n",
       "  <thead>\n",
       "    <tr style=\"text-align: right;\">\n",
       "      <th></th>\n",
       "      <th>id</th>\n",
       "    </tr>\n",
       "  </thead>\n",
       "  <tbody>\n",
       "    <tr>\n",
       "      <th>count</th>\n",
       "      <td>17.000000</td>\n",
       "    </tr>\n",
       "    <tr>\n",
       "      <th>mean</th>\n",
       "      <td>9.000000</td>\n",
       "    </tr>\n",
       "    <tr>\n",
       "      <th>std</th>\n",
       "      <td>5.049752</td>\n",
       "    </tr>\n",
       "    <tr>\n",
       "      <th>min</th>\n",
       "      <td>1.000000</td>\n",
       "    </tr>\n",
       "    <tr>\n",
       "      <th>25%</th>\n",
       "      <td>5.000000</td>\n",
       "    </tr>\n",
       "    <tr>\n",
       "      <th>50%</th>\n",
       "      <td>9.000000</td>\n",
       "    </tr>\n",
       "    <tr>\n",
       "      <th>75%</th>\n",
       "      <td>13.000000</td>\n",
       "    </tr>\n",
       "    <tr>\n",
       "      <th>max</th>\n",
       "      <td>17.000000</td>\n",
       "    </tr>\n",
       "  </tbody>\n",
       "</table>\n",
       "</div>"
      ],
      "text/plain": [
       "              id\n",
       "count  17.000000\n",
       "mean    9.000000\n",
       "std     5.049752\n",
       "min     1.000000\n",
       "25%     5.000000\n",
       "50%     9.000000\n",
       "75%    13.000000\n",
       "max    17.000000"
      ]
     },
     "execution_count": 25,
     "metadata": {},
     "output_type": "execute_result"
    }
   ],
   "source": [
    "df_sdg.describe()"
   ]
  },
  {
   "cell_type": "code",
   "execution_count": 26,
   "metadata": {},
   "outputs": [
    {
     "data": {
      "text/html": [
       "<div>\n",
       "<style scoped>\n",
       "    .dataframe tbody tr th:only-of-type {\n",
       "        vertical-align: middle;\n",
       "    }\n",
       "\n",
       "    .dataframe tbody tr th {\n",
       "        vertical-align: top;\n",
       "    }\n",
       "\n",
       "    .dataframe thead th {\n",
       "        text-align: right;\n",
       "    }\n",
       "</style>\n",
       "<table border=\"1\" class=\"dataframe\">\n",
       "  <thead>\n",
       "    <tr style=\"text-align: right;\">\n",
       "      <th></th>\n",
       "      <th>id</th>\n",
       "      <th>name</th>\n",
       "      <th>description</th>\n",
       "      <th>targets</th>\n",
       "      <th>targets_json_array</th>\n",
       "      <th>progress</th>\n",
       "    </tr>\n",
       "  </thead>\n",
       "  <tbody>\n",
       "    <tr>\n",
       "      <th>0</th>\n",
       "      <td>1</td>\n",
       "      <td>No Poverty</td>\n",
       "      <td>End poverty in all its forms everywhere</td>\n",
       "      <td>['1.1', 'By 2030, eradicate extreme poverty fo...</td>\n",
       "      <td>[{\"target\":\"1.1\",\"description\":\"By 2030, eradi...</td>\n",
       "      <td>['The impact of the COVID-19 pandemic reversed...</td>\n",
       "    </tr>\n",
       "    <tr>\n",
       "      <th>1</th>\n",
       "      <td>2</td>\n",
       "      <td>Zero Hunger</td>\n",
       "      <td>End hunger, achieve food security and improved...</td>\n",
       "      <td>['2.1', 'By 2030, end hunger and ensure access...</td>\n",
       "      <td>[{\"target\":\"2.1\",\"description\":\"By 2030, end h...</td>\n",
       "      <td>['Between 2014 and the onset of the pandemic, ...</td>\n",
       "    </tr>\n",
       "  </tbody>\n",
       "</table>\n",
       "</div>"
      ],
      "text/plain": [
       "   id         name                                        description  \\\n",
       "0   1   No Poverty            End poverty in all its forms everywhere   \n",
       "1   2  Zero Hunger  End hunger, achieve food security and improved...   \n",
       "\n",
       "                                             targets  \\\n",
       "0  ['1.1', 'By 2030, eradicate extreme poverty fo...   \n",
       "1  ['2.1', 'By 2030, end hunger and ensure access...   \n",
       "\n",
       "                                  targets_json_array  \\\n",
       "0  [{\"target\":\"1.1\",\"description\":\"By 2030, eradi...   \n",
       "1  [{\"target\":\"2.1\",\"description\":\"By 2030, end h...   \n",
       "\n",
       "                                            progress  \n",
       "0  ['The impact of the COVID-19 pandemic reversed...  \n",
       "1  ['Between 2014 and the onset of the pandemic, ...  "
      ]
     },
     "execution_count": 26,
     "metadata": {},
     "output_type": "execute_result"
    }
   ],
   "source": [
    "df_sdg.head(2)"
   ]
  },
  {
   "cell_type": "code",
   "execution_count": null,
   "metadata": {},
   "outputs": [],
   "source": []
  }
 ],
 "metadata": {
  "kernelspec": {
   "display_name": "Python 3",
   "language": "python",
   "name": "python3"
  },
  "language_info": {
   "codemirror_mode": {
    "name": "ipython",
    "version": 3
   },
   "file_extension": ".py",
   "mimetype": "text/x-python",
   "name": "python",
   "nbconvert_exporter": "python",
   "pygments_lexer": "ipython3",
   "version": "3.10.4"
  }
 },
 "nbformat": 4,
 "nbformat_minor": 2
}

{
 "cells": [
  {
   "cell_type": "markdown",
   "id": "a0d54da0",
   "metadata": {},
   "source": [
    "# Using Bonito Model to Generate Q&A Pairs"
   ]
  },
  {
   "cell_type": "markdown",
   "id": "3df71da7",
   "metadata": {},
   "source": [
    "Instruction tuning is a method to increase the instruction following capabilities and general zero-shot performance of LLMs. Using synthetic data in this task is widely used (Self-Instruct, OpenOrca, etc.). Nayak et al. {cite}`nayak_learning_2024` introduced [Bonito](https://huggingface.co/BatsResearch/bonito-v1) model for conditional task generation which enables converting plain (unannotated) text to instruction-tuning datasets. We will use this model to develop a \"critical infrastructure assessor LLM\" using the MOSIP documentation and Okta's recent threat intelligence report as unannotated datasets."
   ]
  },
  {
   "cell_type": "code",
   "execution_count": 2,
   "id": "a529ea88-7fea-4a1b-bb78-511cbdaaccca",
   "metadata": {},
   "outputs": [],
   "source": [
    "from transformers import AutoTokenizer, AutoModelForCausalLM"
   ]
  },
  {
   "cell_type": "code",
   "execution_count": 3,
   "id": "1f068617-6cd3-4923-bb54-4359409f85e7",
   "metadata": {},
   "outputs": [],
   "source": [
    "from pathlib import Path\n",
    "cache_path = Path('/bask/projects/v/vjgo8416-ai-fairness/.cache/huggingface')"
   ]
  },
  {
   "cell_type": "code",
   "execution_count": 4,
   "id": "0cd67a4a-2a38-4447-a9db-7c11d1ecda72",
   "metadata": {},
   "outputs": [
    {
     "data": {
      "application/vnd.jupyter.widget-view+json": {
       "model_id": "26cefc325e014d8b943b3ed8260d5fb8",
       "version_major": 2,
       "version_minor": 0
      },
      "text/plain": [
       "Loading checkpoint shards:   0%|          | 0/2 [00:00<?, ?it/s]"
      ]
     },
     "metadata": {},
     "output_type": "display_data"
    },
    {
     "name": "stderr",
     "output_type": "stream",
     "text": [
      "/bask/homes/f/fscd8270/.local/lib/python3.9/site-packages/torch/_utils.py:831: UserWarning: TypedStorage is deprecated. It will be removed in the future and UntypedStorage will be the only storage class. This should only matter to you if you are using storages directly.  To access UntypedStorage directly, use tensor.untyped_storage() instead of tensor.storage()\n",
      "  return self.fget.__get__(instance, owner)()\n"
     ]
    }
   ],
   "source": [
    "tokenizer = AutoTokenizer.from_pretrained(\"BatsResearch/bonito-v1\", cache_dir=cache_path)\n",
    "model = AutoModelForCausalLM.from_pretrained(\"BatsResearch/bonito-v1\", cache_dir=cache_path)"
   ]
  },
  {
   "cell_type": "code",
   "execution_count": 5,
   "id": "184db103-966e-4f65-8e8b-bc713de02ad8",
   "metadata": {},
   "outputs": [],
   "source": [
    "from datasets import Dataset,load_from_disk\n",
    "mosipds = load_from_disk(\"datasets/mosip_dataset.hf\")"
   ]
  },
  {
   "cell_type": "code",
   "execution_count": 6,
   "id": "552d5ef9-4698-4dff-a4fa-cef62c88bdca",
   "metadata": {},
   "outputs": [],
   "source": [
    "#input_text = mosipds[1][\"input\"]\n",
    "#input_text = \"Summarise the following text: \" + input_text "
   ]
  },
  {
   "cell_type": "code",
   "execution_count": 7,
   "id": "0486a331-8f04-4686-aaea-938e98512cce",
   "metadata": {},
   "outputs": [],
   "source": [
    "#input_ids = tokenizer(input_text, return_tensors=\"pt\")\n",
    "#outputs = model.generate(**input_ids, max_new_tokens=30)\n",
    "#print(tokenizer.decode(outputs[0]))"
   ]
  },
  {
   "cell_type": "code",
   "execution_count": 8,
   "id": "749ee6c6-0201-4a99-a8b5-d879cd945ab5",
   "metadata": {},
   "outputs": [],
   "source": [
    "SHORTFORM_TO_FULL_TASK_TYPES = {\n",
    "    \"exqa\": \"extractive question answering\",\n",
    "    \"mcqa\": \"multiple-choice question answering\",\n",
    "    \"qg\": \"question generation\",\n",
    "    \"qa\": \"question answering without choices\",\n",
    "    \"ynqa\": \"yes-no question answering\",\n",
    "    \"coref\": \"coreference resolution\",\n",
    "    \"paraphrase\": \"paraphrase generation\",\n",
    "    \"paraphrase_id\": \"paraphrase identification\",\n",
    "    \"sent_comp\": \"sentence completion\",\n",
    "    \"sentiment\": \"sentiment\",\n",
    "    \"summarization\": \"summarization\",\n",
    "    \"text_gen\": \"text generation\",\n",
    "    \"topic_class\": \"topic classification\",\n",
    "    \"wsd\": \"word sense disambiguation\",\n",
    "    \"te\": \"textual entailment\",\n",
    "    \"nli\": \"natural language inference\",\n",
    "}"
   ]
  },
  {
   "cell_type": "code",
   "execution_count": 9,
   "id": "9c285176-957c-4ea7-8752-6923572f5505",
   "metadata": {},
   "outputs": [],
   "source": [
    "def prepare_bonito_input(context_dataset: Dataset, task_type: str, context_col: str) -> Dataset:\n",
    "        \"\"\"\n",
    "        Prepares the input for the Bonito model.\n",
    "\n",
    "        This method takes a context dataset, a task type, and a context\n",
    "        column name, and prepares the dataset for the Bonito model.\n",
    "        If the task type is not recognized, it raises a ValueError.\n",
    "\n",
    "        Args:\n",
    "            context_dataset (Dataset): The dataset that provides the\n",
    "                context for the task.\n",
    "            task_type (str): The type of the task. This can be a\n",
    "                short form or a full form. If the task type is not\n",
    "                recognized, a ValueError is raised.\n",
    "            context_col (str): The name of the column in the dataset\n",
    "                that provides the context for the task.\n",
    "            **kwargs: Additional keyword arguments.\n",
    "\n",
    "        Returns:\n",
    "            Dataset: The prepared dataset for the Bonito model.\n",
    "        \"\"\"\n",
    "        # get the task type name\n",
    "        if task_type in SHORTFORM_TO_FULL_TASK_TYPES.values():\n",
    "            full_task_type = task_type\n",
    "        elif task_type in SHORTFORM_TO_FULL_TASK_TYPES:\n",
    "            full_task_type = SHORTFORM_TO_FULL_TASK_TYPES[task_type]\n",
    "        else:\n",
    "            raise ValueError(f\"Task type {task_type} not recognized\")\n",
    "\n",
    "        def process(example):\n",
    "            input_text = \"<|tasktype|>\\n\" + full_task_type.strip()\n",
    "            input_text += (\n",
    "                \"\\n<|context|>\\n\" + example[context_col].strip() + \"\\n<|task|>\\n\"\n",
    "            )\n",
    "            return {\n",
    "                \"input\": input_text,\n",
    "            }\n",
    "\n",
    "        return context_dataset.map(\n",
    "            process,\n",
    "            remove_columns=context_dataset.column_names,\n",
    "            num_proc=1,\n",
    "        )"
   ]
  },
  {
   "cell_type": "code",
   "execution_count": 34,
   "id": "d2175191-cb2b-430d-a862-29a664fb7a83",
   "metadata": {},
   "outputs": [],
   "source": [
    "def postprocess_dataset(synthetic_dataset: Dataset, context_col: str) -> Dataset:\n",
    "        \"\"\"\n",
    "        Post-processes the synthetic dataset.\n",
    "\n",
    "        This method takes a synthetic dataset and a context column\n",
    "        name, and post-processes the dataset. It filters out\n",
    "        examples where the prediction does not contain exactly two\n",
    "        parts separated by \"<|pipe|>\", and then maps each example to a\n",
    "        new format where the context is inserted into the first part of\n",
    "        the prediction and the second part of the prediction is used as\n",
    "        the output.\n",
    "\n",
    "        Args:\n",
    "            synthetic_dataset (Dataset): The synthetic dataset to be\n",
    "                post-processed.\n",
    "            context_col (str): The name of the column in the dataset\n",
    "                that provides the context for the tasks.\n",
    "            **kwargs: Additional keyword arguments.\n",
    "\n",
    "        Returns:\n",
    "            Dataset: The post-processed synthetic dataset.\n",
    "        \"\"\"\n",
    "        synthetic_dataset = synthetic_dataset.filter(\n",
    "            lambda example: len(example[\"prediction\"].split(\"<|pipe|>\")) == 2\n",
    "        )\n",
    "\n",
    "        def process(example):\n",
    "            pair = example[\"prediction\"].split(\"<|pipe|>\")\n",
    "            context = example[context_col].strip()\n",
    "            return {\n",
    "                \"input\": pair[0].strip().replace(\"{{context}}\", context),\n",
    "                \"output\": pair[1].strip(),\n",
    "            }\n",
    "\n",
    "        synthetic_dataset = synthetic_dataset.map(\n",
    "            process,\n",
    "            remove_columns=synthetic_dataset.column_names,\n",
    "            num_proc=1,\n",
    "        )\n",
    "\n",
    "        return synthetic_dataset"
   ]
  },
  {
   "cell_type": "code",
   "execution_count": 16,
   "id": "9bdb58b9-44b7-4cf8-a219-d3ccdd1cfd78",
   "metadata": {},
   "outputs": [],
   "source": [
    "def convert_to_dataset(text):\n",
    "    dataset = Dataset.from_list([{\"input\": text}])\n",
    "    return dataset"
   ]
  },
  {
   "cell_type": "code",
   "execution_count": 17,
   "id": "35e5efd8-8e2e-4f5f-b376-e644f81788af",
   "metadata": {},
   "outputs": [],
   "source": [
    "# If you would like to test the model with only one simple text, you can uncomment the following code:\n",
    "\n",
    "# unannotated_paragraph = \"\"\"1. “Confidential Information”, whenever used in this Agreement, shall mean any data, document, specification and other information or material, that is delivered or disclosed by UNHCR to the Recipient in any form whatsoever, whether orally, visually in writing or otherwise (including computerized form), and that, at the time of disclosure to the Recipient, is designated as confidential.\"\"\"\n",
    "\n",
    "# processed_dataset = prepare_bonito_input(\n",
    "#    context_dataset=convert_to_dataset(unannotated_paragraph),\n",
    "#    context_col=\"input\",\n",
    "#    task_type=\"nli\"\n",
    "# )"
   ]
  },
  {
   "cell_type": "code",
   "execution_count": 23,
   "id": "b43b0faa-e6a3-414d-a1ee-fd66f35da791",
   "metadata": {},
   "outputs": [],
   "source": [
    "processed_dataset = prepare_bonito_input(\n",
    "    context_dataset=mosipds,\n",
    "    context_col=\"input\",\n",
    "    task_type=\"nli\"\n",
    ")"
   ]
  },
  {
   "cell_type": "code",
   "execution_count": 24,
   "id": "c8885a2c-23b8-43a7-af7d-190751c1523f",
   "metadata": {},
   "outputs": [
    {
     "data": {
      "text/plain": [
       "{'input': '<|tasktype|>\\nnatural language inference\\n<|context|>\\nOverview - Multiple language support : \\n* Registration Client is featured to allow an operator to choose the operation language. Option to select their preferred language is provided on the login screen.\\n* Data collection during registration client supports more than one language at a time.\\n* Before starting any registration process, the operator can choose the languages amongst the configured ones.\\n \\n  \\nTo know more about setting up the reference registration client, refer to [Registration Client Installation Guide](https://docs.mosip.io/1.2.0/modules/registration-client/registration-client-installation-guide).\\n\\nTo know more about the features present in the Registration Client, refer to [Registration Client User Guide](https://docs.mosip.io/1.2.0/modules/registration-client/registration-client-user-guide).\\n<|task|>\\n'}"
      ]
     },
     "execution_count": 24,
     "metadata": {},
     "output_type": "execute_result"
    }
   ],
   "source": [
    "processed_dataset[0]"
   ]
  },
  {
   "cell_type": "code",
   "execution_count": 30,
   "id": "4edf6cd2-ceb3-4b68-bdf2-2a4de9d8e873",
   "metadata": {},
   "outputs": [],
   "source": [
    "tokenizer.pad_token = tokenizer.eos_token"
   ]
  },
  {
   "cell_type": "code",
   "execution_count": null,
   "id": "64ff06b4-f321-4f2e-8d7d-57596afbd33e",
   "metadata": {},
   "outputs": [
    {
     "name": "stderr",
     "output_type": "stream",
     "text": [
      "Setting `pad_token_id` to `eos_token_id`:2 for open-end generation.\n",
      "Setting `pad_token_id` to `eos_token_id`:2 for open-end generation.\n"
     ]
    },
    {
     "name": "stdout",
     "output_type": "stream",
     "text": [
      "{'context': 'input', 'prediction': '<s> <|tasktype|>\\nnatural language inference\\n<|context|>\\nOverview - Multiple language support : \\n* Registration Client is featured to allow an operator to choose the operation language. Option to select their preferred language is provided on the login screen.\\n* Data collection during registration client supports more than one language at a time.\\n* Before starting any registration process, the operator can choose the languages amongst the configured ones.\\n \\n  \\nTo know more about setting up the reference registration client, refer to [Registration Client Installation Guide](https://docs.mosip.io/1.2.0/modules/registration-client/registration-client-installation-guide).\\n\\nTo know more about the features present in the Registration Client, refer to [Registration Client User Guide](https://docs.mosip.io/1.2.0/modules/registration-client/registration-client-user-guide).\\n<|task|>\\n {{context}} Based on the previous passage, is it true that \"The Registration Client is featured to allow an operator to choose the operation language. Option to select their preferred language is provided on the login screen. The operator can choose the languages amongst the configured ones.\"? Yes, no, or maybe?\\n<|pipe|>\\nYes</s>'}\n"
     ]
    },
    {
     "name": "stderr",
     "output_type": "stream",
     "text": [
      "Setting `pad_token_id` to `eos_token_id`:2 for open-end generation.\n"
     ]
    },
    {
     "name": "stdout",
     "output_type": "stream",
     "text": [
      "{'context': 'input', 'prediction': '<s> <|tasktype|>\\nnatural language inference\\n<|context|>\\nOverview - Who operates the Registration Client? : \\nThe Registration Client can be operated by an operator who can be either a **Supervisor** or an **Officer**. They can login to the client application and perform various activities. The Supervisor and the Officer can perform tasks like Onboarding, Synchronize Data, Upgrade software, Export packet, Upload packets, View Re-registration packets, Correction process, Exception authentication, etc. In addition to this, the Supervisor has exclusive authority to Approve/reject registrations.\\n\\nTo know more about the onboarding process of an operator, refer to [Operator onboarding](operator-onboarding.md).\\n<|task|>\\n {{context}} Based on the previous passage, is it true that \"The Registration Client can be operated by an operator who can be either a **Supervisor** or an **Officer**. They can login to the client application and perform various activities. The Supervisor and the Officer can perform tasks like Onboarding, Synchronize Data, Upgrade software, Export packet, Upload packets, View Re-registration packets, Correction process, Exception authentication, etc. The Registration Client is used by the government.\"? Yes, no, or maybe?\\n<|pipe|>\\nMaybe</s>'}\n"
     ]
    },
    {
     "name": "stderr",
     "output_type": "stream",
     "text": [
      "Setting `pad_token_id` to `eos_token_id`:2 for open-end generation.\n"
     ]
    },
    {
     "name": "stdout",
     "output_type": "stream",
     "text": [
      "{'context': 'input', 'prediction': '<s> <|tasktype|>\\nnatural language inference\\n<|context|>\\nOverview - Registration Client entity diagram :     \\n![](_images/reg-client.drawio.png)\\n\\nThe relationship of Registration Client with other services is explained here. _NOTE_: The numbers do not signify sequence of operations or control flow.\\n\\n1. Registration Client connects to the Upgrade Server to check on upgrades and patch downloads.\\n2. All the masterdata and configurations are downloaded from SyncData-service.\\n3. Registration Client always connects to external biometric devices through SBI.\\n4. Registration Client scans the document proofs from any document scanner.\\n5. Acknowledgement receipt print request is raised to any connected printers.\\n6. Packets ready to be uploaded meta-info are synced to Sync Status service. Also, the status of already uploaded packets are synced back to Registration Client.\\n7. All the synced packets are uploaded to Packet Receiver service one by one.\\n\\nThe image below shows the setup of Registration Client Host machine.\\n\\n![](_images/reg-client-host-machine.png)\\n\\n1. Registration Client comprises of JavaFX UI, Registration-services libaries and any third party biometric-SDK.\\n2. SBI is allowed to run on loopback IP and should listen on any port within 4501-4600 range.\\nMore than one SBI can run on the host machine. Registration Client scans the allowed port range to identify the available SBI.\\n3. Registration Client connects to local Derby database. This is used to store all the data synced. \\n4. All the completed registration packets are stored under packetstore directory.\\n5. `.mosipkeys` directory is used to store sensitive files. `db.conf` under this directory stores encrypted DB password. This is created on the start of registration client for the first time.\\n6. TPM - is the hardware security module used to get machine identifier, to secure DB password, prove the client authenticity on auth requests and packets created in the host machine.\\n<|task|>\\n {{context}} Based on the previous passage, is it true that \"The numbers do not signify sequence of operations or control flow.\"? Yes, no, or maybe?\\n<|pipe|>\\nYes</s>'}\n"
     ]
    },
    {
     "name": "stderr",
     "output_type": "stream",
     "text": [
      "Setting `pad_token_id` to `eos_token_id`:2 for open-end generation.\n"
     ]
    },
    {
     "name": "stdout",
     "output_type": "stream",
     "text": [
      "{'context': 'input', 'prediction': '<s> <|tasktype|>\\nnatural language inference\\n<|context|>\\nOverview - Data protection : \\n* The registration packets and synced data are stored in the client machine.\\n* Most of the synced data are stored in the Derby DB. Derby DB is encrypted with the bootpassword.\\n* Derby DB boot password is encrypted with machine TPM key and stored under `.mosipkeys/db.conf`.\\n* Synced UI-SPEC/script files are saved in plain text under registration client working directory. During sync, SPEC/script file hash is stored in derby and then the files are saved in the current working directory. Everytime the file is accessed by the client performs the hash check.\\n* Synced pre-registration packets are encrypted with TPM key and stored under configured directory.\\n* Directory to store the registration packets and related registration acknowledgments is configurable. \\n* Registration packet is an signed and encrypted ZIP.\\n* Registration acknowledgment is also signed and encrypted with TPM key.\\n<|task|>\\n {{context}} Based on the previous passage, is it true that \"The registration packets and synced data are stored in the client machine. The client machine is a laptop.\"? Yes, no, or maybe?\\n<|pipe|>\\nMaybe</s>'}\n"
     ]
    },
    {
     "name": "stderr",
     "output_type": "stream",
     "text": [
      "Setting `pad_token_id` to `eos_token_id`:2 for open-end generation.\n"
     ]
    },
    {
     "name": "stdout",
     "output_type": "stream",
     "text": [
      "{'context': 'input', 'prediction': '<s> <|tasktype|>\\nnatural language inference\\n<|context|>\\nOverview - Configurations : \\nRegistration Client can be customized as per a country\\' requirements.  For details related to Registration Client configurations, refer to [Registration Client configuration](https://docs.mosip.io/1.2.0/modules/registration-client/registration-client-configuration).\\n<|task|>\\n {{context}} Based on the previous passage, is it true that \"Registration Client can be customized as per a country\\'s requirements.\"? Yes, no, or maybe?\\n<|pipe|>\\nYes</s>'}\n"
     ]
    },
    {
     "name": "stderr",
     "output_type": "stream",
     "text": [
      "Setting `pad_token_id` to `eos_token_id`:2 for open-end generation.\n"
     ]
    },
    {
     "name": "stdout",
     "output_type": "stream",
     "text": [
      "{'context': 'input', 'prediction': '<s> <|tasktype|>\\nnatural language inference\\n<|context|>\\nOverview - UI Specifications for Registration Tasks : \\n* Blueprint of registration forms to be displayed in registration client are created as json called as UI-SPEC.\\n* Every process ( NEW / LOST / UPDATE UIN / CORRECTION ) has its own UI-SPEC json.\\n* Kernel-masterdata-service exposes API\\'s to create and publish UI-SPEC.\\n* Published UI-SPEC json are versioned.\\n* Only published UI-SPEC are synced into registration-client.\\n* UI-SPEC json files are tamper proof, client checks the stored file hash everytime it tries to load registration UI.\\n* UI-SPEC json will fail to load if tampered.\\n\\nDefault UI Specifications loaded with Sandbox installation is available [here](https://github.com/mosip/mosip-infra/blob/1.2.0-rc2/deployment/v3/mosip/kernel/masterdata/xlsx/ui_spec.xlsx)\\n<|task|>\\n {{context}} Based on the previous passage, is it true that \"UI-SPEC json files are tamper proof, client checks the stored file hash everytime it tries to load registration UI. \"? Yes, no, or maybe?\\n<|pipe|>\\nYes</s>'}\n"
     ]
    },
    {
     "name": "stderr",
     "output_type": "stream",
     "text": [
      "Setting `pad_token_id` to `eos_token_id`:2 for open-end generation.\n"
     ]
    },
    {
     "name": "stdout",
     "output_type": "stream",
     "text": [
      "{'context': 'input', 'prediction': '<s> <|tasktype|>\\nnatural language inference\\n<|context|>\\nOverview - Developer Guide : To know more about the developer setup, read [Registration Client Developers Guide](https://docs.mosip.io/1.2.0/modules/registration-client/registration-client-developers-guide).\\n<|task|>\\n {{context}} Based on the previous passage, is it true that \"The developer guide is not very long.\"? Yes, no, or maybe?\\n<|pipe|>\\nMaybe</s>'}\n"
     ]
    },
    {
     "name": "stderr",
     "output_type": "stream",
     "text": [
      "Setting `pad_token_id` to `eos_token_id`:2 for open-end generation.\n"
     ]
    },
    {
     "name": "stdout",
     "output_type": "stream",
     "text": [
      "{'context': 'input', 'prediction': '<s> <|tasktype|>\\nnatural language inference\\n<|context|>\\nData Protection - Registration data flow : \\n![](\\\\_images/cryptography-registration-flow.png)\\n\\n1. [Biometrics](biometrics.md) are signed by the private key of the device provider (PK2). The signature is verified by the Registration Client.\\n2. [Registration Client](registration-client.md) signs the packet using the TPM key of the machine (K10) and encrypts the packet using MOSIP public key specific to (the registration centre, machine id) combination (K11).\\n3. [Registration processor](registration-processor.md) stores packets created in (2) \"as is\" in [Object Store](broken-reference).\\n4. [ID Repository](id-repository.md) encrypts biometrics, demographics and documents and stores them in Object Store. (K7.1,K7.2,K7.3)\\n5. The UINs are hashed, encrypted and stored in `uin` the table of `mosip_idrepo` DB. (K7.4)\\n6. Biometrics are shared and encrypted with the ABIS partner\\'s key (PK1).\\n7. Registration processor stores encrypted demographic data in `mosip_regprc` DB. (K11)\\n<|task|>\\n {{context}} Based on the previous passage, is it true that \"The ABIS partner\\'s key is used to encrypt biometrics.\"? Yes, no, or maybe?\\n<|pipe|>\\nYes</s>'}\n"
     ]
    },
    {
     "name": "stderr",
     "output_type": "stream",
     "text": [
      "Setting `pad_token_id` to `eos_token_id`:2 for open-end generation.\n"
     ]
    },
    {
     "name": "stdout",
     "output_type": "stream",
     "text": [
      "{'context': 'input', 'prediction': '<s> <|tasktype|>\\nnatural language inference\\n<|context|>\\nData Protection - Datashare : \\n![](\\\\_images/cryptography-datashare.png)\\n\\nData shared with all partners like ABIS, Print, Adjudication, IDA etc. is encrypted using partners\\' public key. Note that IDA is also a partner, however, a special partner in the sense that data is additionally zero-knowledge encrypted before sending to IDA (see the section below).\\n<|task|>\\n {{context}} Based on the previous passage, is it true that \"Data is sent to IDA after it is zero-knowledge encrypted.\"? Yes, no, or maybe?\\n<|pipe|>\\nYes</s>'}\n"
     ]
    },
    {
     "name": "stderr",
     "output_type": "stream",
     "text": [
      "Setting `pad_token_id` to `eos_token_id`:2 for open-end generation.\n"
     ]
    },
    {
     "name": "stdout",
     "output_type": "stream",
     "text": [
      "{'context': 'input', 'prediction': '<s> <|tasktype|>\\nnatural language inference\\n<|context|>\\nData Protection - Zero-knowledge encryption : \\nThe [ID Authentication](id-authentication.md) module (IDA) is an independent module and may be hosted by several providers. IDA hosts all the biometric templates and demographic data. Unique additional protection is provided here to make sure that mass decryption of user data is very difficult to achieve. The data can only be decrypted if the user\\'s UIN is provided. Here is the encryption scheme:\\n\\n### Encryption and sharing by Credential Service\\n\\n1. Generate master symmetric encryption key K9.\\n2. Generate a 10,000 symmetric keys pool (ZKn). Encrypt each ZKn with K9 and store it in DB. (K12)\\n3. Randomly select one key from ZKn, and decrypt using K9.\\n4. Derive new key ZKn\\' = ZKn + UIN/VID/APPID.\\n5. Encrypt biometric templates and demographics.\\n   * BIO = encrypt(bio/demo with ZKn\\').\\n6. Encrypt ZKn (this is done to share ZKn with IDA).\\n   * ZKn-IDA = encrypt(ZKn with K22)\\n7. Share the following with IDA:\\n   1. ZKn-IDA\\n   2. BIO\\n   3. Random index (0 - 9999)\\n   4. SHA-256 hash of UIN/VID/APPID\\n8. Share data in step 7 via standard [Datashare encryption](data-protection.md#datashare) (which encrypts entire data with PK8).\\n\\n### Decryption by IDA\\n\\n1. Generate master symmetric encryption key K18.\\n2. Decrypt data in Step 8 above using PK8.\\n3. Decrypt ZKn-IDA with K22 to get ZKn.\\n4. Encrypt ZKn with K18 and store it at a random index.\\n5. Bio-data is stored as is.\\n<|task|>\\n {{context}} Based on the previous passage, is it true that \"IDA is an independent module.\"? Yes, no, or maybe?\\n<|pipe|>\\nYes</s>'}\n"
     ]
    },
    {
     "name": "stderr",
     "output_type": "stream",
     "text": [
      "Setting `pad_token_id` to `eos_token_id`:2 for open-end generation.\n"
     ]
    },
    {
     "name": "stdout",
     "output_type": "stream",
     "text": [
      "{'context': 'input', 'prediction': '<s> <|tasktype|>\\nnatural language inference\\n<|context|>\\nData Protection - ID authentication flow : \\n![](\\\\_images/cryptography-ida-flow.png)\\n\\n1. L1 devices contain [FTM](ftm.md) to encrypt (DE1, K21) and sign (FK1) biometrics at the source and send them to the authentication client.\\n2. The authentication client further encrypts the auth request with IDA-PARTNER public key.\\n3. IDA decrypts zero-knowledge data as given in [Step 4](data-protection.md#encryption-and-share-by-credential-service) and then performs a demographic and/or biometric authentication.\\n4. The match result is returned to Auth client. In the case of KYC, the KYC attributes are encrypted with the Partner\\'s public key (as in [Datashare](datashare.md)).\\n<|task|>\\n {{context}} Based on the previous passage, is it true that \"The match result is returned to Auth client. In the case of KYC, the KYC attributes are encrypted with the Partner\\'s public key (as in [Datashare](datashare.md)). The match result is returned to Auth client. In the case of KYC, the KYC attributes are encrypted with the Partner\\'s public key (as in [Datashare](datashare.md)). The match result is returned to Auth client. In the case of KYC, the KYC attributes are encrypted with the Partner\\'s public key (as in [Datashare](datashare.md)).\"? Yes, no, or maybe?\\n<|pipe|>\\nYes</s>'}\n"
     ]
    },
    {
     "name": "stderr",
     "output_type": "stream",
     "text": [
      "Setting `pad_token_id` to `eos_token_id`:2 for open-end generation.\n"
     ]
    },
    {
     "name": "stdout",
     "output_type": "stream",
     "text": [
      "{'context': 'input', 'prediction': '<s> <|tasktype|>\\nnatural language inference\\n<|context|>\\nPartner Policies - Overview : \\nPartner policies control the data that needs to be shared with a partner. The policies reside in [`auth_policy` table](https://github.com/mosip/partner-management-services/blob/release-1.2.0/db\\\\_scripts/mosip\\\\_pms/ddl/pms-auth\\\\_policy.sql) of `mosip_pms` DB.\\n\\n### Policy types\\n\\n| Policy type      | Partners                                                                          | Description                                                                                                                                                               |\\n| ---------------- | --------------------------------------------------------------------------------- | ------------------------------------------------------------------------------------------------------------------------------------------------------------------------- |\\n| Auth policy      | AP                                                                                | Specifies [authentication types](id-authentication.md#authentication-types) and [KYC](id-authentication.md#kyc-authentication) fields to be shared during authentication. |\\n| Datashare policy | Online Verification Partner, Credential Partner, Manual Adjudiation, ABIS partner | Specifies data to be shared with partners                                                                                                                                 |\\n\\nPolicies are not applicable for Device Provider, FTM Provider and MISP Partner as data is not shared with them.\\n\\nRefer to the [default policies](https://github.com/mosip/partner-management-services/blob/release-1.2.0/db\\\\_scripts/mosip\\\\_pms/dml/pms-auth\\\\_policy.csv) loaded while installing MOSIP.\\n<|task|>\\n {{context}} Based on the previous passage, is it true that \"Policies are not applicable for Device Provider, FTM Provider and MISP Partner as data is not shared with them. Data is not shared with them.\"? Yes, no, or maybe?\\n<|pipe|>\\nYes</s>'}\n"
     ]
    },
    {
     "name": "stderr",
     "output_type": "stream",
     "text": [
      "Setting `pad_token_id` to `eos_token_id`:2 for open-end generation.\n"
     ]
    },
    {
     "name": "stdout",
     "output_type": "stream",
     "text": [
      "{'context': 'input', 'prediction': '<s> <|tasktype|>\\nnatural language inference\\n<|context|>\\nPartner Policies - Policy group : \\nCommon policies are grouped example \\'Telecom\\', \\'Banking\\', \\'Insurance\\' etc.\\n<|task|>\\n {{context}} Based on the previous passage, is it true that \"Telecom is a common policy\"? Yes, no, or maybe?\\n<|pipe|>\\nYes</s>'}\n"
     ]
    },
    {
     "name": "stderr",
     "output_type": "stream",
     "text": [
      "Setting `pad_token_id` to `eos_token_id`:2 for open-end generation.\n"
     ]
    },
    {
     "name": "stdout",
     "output_type": "stream",
     "text": [
      "{'context': 'input', 'prediction': '<s> <|tasktype|>\\nnatural language inference\\n<|context|>\\nAutomation Testing - Overview : \\nMOSIP provides automation test repositories for the following:\\n\\n* [Admin UI](https://github.com/mosip/admin-ui/tree/release-1.2.0/admintest)\\n* [Registration Client](https://github.com/mosip/registration-client/tree/release-1.2.0/registration/registration-test)\\n* [Functional Tests](https://github.com/mosip/mosip-functional-tests/tree/release-1.2.0)\\n* [Automation Tests](https://github.com/mosip/mosip-automation-tests/tree/release-1.2.0)\\n\\n### Admin UI\\nSelenium webdriver-based Admin Portal Automation covers CRUD (create, read, update and delete) operation performed via UI with Chrome driver.\\n\\n### Registration Client\\nRegistration test automation covers these flows: New, Update, Correction, and Lost flows.\\n\\nTo know more about each, click [here](id-lifecycle-management.md).\\n\\n### Functional Tests\\nThis repository contains API automation tests. The automation is written using Java REST Assured and TestNG framework. The following modules are covered:\\n\\n1. Pre-registration\\n1. Masterdata\\n1. Partner Management\\n1. ID Repository\\n1. IDA\\n1. Resident\\n\\nFunctional tests support multi-languages, i.e., the input can be provided in any of the languages configured in a given MOSIP installation.\\n\\n### Automation Tests\\n\\nThis repository contains a test framework for end-to-end testing of MOSIP functionality. The following functionalities are covered:\\n\\n* Registration\\n* Pre-registration + Registration\\n* Authentication\\n<|task|>\\n {{context}} Based on the previous passage, is it true that \"The test framework is for end-to-end testing of MOSIP functionality.\"? Yes, no, or maybe?\\n<|pipe|>\\nYes</s>'}\n"
     ]
    },
    {
     "name": "stderr",
     "output_type": "stream",
     "text": [
      "Setting `pad_token_id` to `eos_token_id`:2 for open-end generation.\n"
     ]
    },
    {
     "name": "stdout",
     "output_type": "stream",
     "text": [
      "{'context': 'input', 'prediction': '<s> <|tasktype|>\\nnatural language inference\\n<|context|>\\nMOSIP e-Manas - Overview : \\nThis demonstration showcases the integration of MOSIP\\'s [Authentication API](https://mosip.github.io/documentation/1.2.0/authentication-service.html) with the Mental Healthcare Management system offered by [e-Manas](https://e-manas.karnataka.gov.in/#/about). This integration enables secure means of sharing health records of a patient across hospitals with the patient\\'s consent, where the authentication is enabled by MOSIP ID.\\n\\nBelow is the demonstration of the same.\\n\\n{% embed url=\"https://youtu.be/yyherCcIpTs\" %}\\n<|task|>\\n {{context}} Based on the previous passage, is it true that \"MOSIP e-Manas is a demonstration of the integration of MOSIP\\'s [Authentication API](https://mosip.github.io/documentation/1.2.0/authentication-service.html) with the Mental Healthcare Management system offered by [e-Manas](https://e-manas.karnataka.gov.in/#/about).\"? Yes, no, or maybe?\\n<|pipe|>\\nYes</s>'}\n"
     ]
    },
    {
     "name": "stderr",
     "output_type": "stream",
     "text": [
      "Setting `pad_token_id` to `eos_token_id`:2 for open-end generation.\n"
     ]
    },
    {
     "name": "stdout",
     "output_type": "stream",
     "text": [
      "{'context': 'input', 'prediction': '<s> <|tasktype|>\\nnatural language inference\\n<|context|>\\nMOSIP e-Manas - MOSIP e-Manas Integration Architecture : \\n![](\\\\_images/mosip-eManas-int-arch.png)\\n<|task|>\\n {{context}} Based on the previous passage, is it true that \"MOSIP e-Manas Integration Architecture is a new technology\"? Yes, no, or maybe?\\n<|pipe|>\\nMaybe</s>'}\n"
     ]
    },
    {
     "name": "stderr",
     "output_type": "stream",
     "text": [
      "Setting `pad_token_id` to `eos_token_id`:2 for open-end generation.\n"
     ]
    },
    {
     "name": "stdout",
     "output_type": "stream",
     "text": [
      "{'context': 'input', 'prediction': '<s> <|tasktype|>\\nnatural language inference\\n<|context|>\\nResident Services- Release Notes - Overview : \\nThis release marks the developer\\'s preview release of Resident Services, offering valuable insights into the range of features and functionality available. Resident Services is designed to run on 1.2.0.1-B3 version of MOSIP platform. Resident Services are the self-services which are used by the residents themselves via a portal. [Resident Portal](https://docs.mosip.io/1.2.0/modules/resident-services/resident-portal-user-guide) is a web-based UI application that provides residents of a country the services related to their Unique Identification Number (UIN). The residents can perform various operations related to their UIN/ VID and can also raise concerns if any through the portal.\\n\\nThe key features provided on the Resident portal are:\\n\\n1. Avail **UIN services** using UIN/VID (through [e-Signet](https://docs.esignet.io)):\\n     * View My History\\n     * Manage My VID\\n     * Secure My ID\\n     * Track My Requests\\n     * Get Personalised Card\\n     * Share My Data\\n     * Logout\\n2. Get Information \\n    * About Registration Centers\\n    * List of supporting documents\\n3. Get My UIN (using UIN/ VID/ AID)\\n4. Verify email ID and/ or phone number \\n5. Responsive UI support- Support for the application to work seamlessly on various resolutions.\\n6. Book an appointment for new enrolment (via the pre-registration portal)\\n7. Ancillary features\\n     * Font size\\n     *  Get Notifications (email and bell notifications)\\n     * View profile details of the logged in user (name, photo, and last login details)\\n  \\nFor a quick overview of the design principles and to understand the relationship of Resident Services with other services, read [Resident Services Overview](resident-services.md).\\n<|task|>\\n {{context}} Based on the previous passage, is it true that \"Resident Services is designed to run on 1.2.0.1-B3 version of MOSIP platform. Resident Services are the self-services which are used by the residents themselves via a portal. [Resident Portal](https://docs.mosip.io/1.2.0/modules/resident-services/resident-portal-user-guide) is a web-based UI application that provides residents of a country the services related to their Unique Identification Number (UIN). The residents can perform various operations related to their UIN/ VID and can also raise concerns if any through the portal. Resident Services is a very popular service.\"? Yes, no, or maybe?\\n<|pipe|>\\nMaybe</s>'}\n"
     ]
    },
    {
     "name": "stderr",
     "output_type": "stream",
     "text": [
      "Setting `pad_token_id` to `eos_token_id`:2 for open-end generation.\n"
     ]
    },
    {
     "name": "stdout",
     "output_type": "stream",
     "text": [
      "{'context': 'input', 'prediction': '<s> <|tasktype|>\\nnatural language inference\\n<|context|>\\nResident Services- Release Notes - Repository Released : \\n| **Repositories**            | **Tags Released**                                                              |\\n| --------------------------- | ------------------------------------------------------------------------------ |\\n| Resident Services                | [Resident Services vDP1](https://github.com/mosip/resident-services/releases/tag/vDP1) |\\n| Resident UI        | [Resident UI vDP1](https://github.com/mosip/resident-ui/releases/tag/vDP1) |\\n<|task|>\\n {{context}} Based on the previous passage, is it true that \"Resident Services is a repository.\"? Yes, no, or maybe?\\n<|pipe|>\\nYes</s>'}\n"
     ]
    },
    {
     "name": "stderr",
     "output_type": "stream",
     "text": [
      "Setting `pad_token_id` to `eos_token_id`:2 for open-end generation.\n"
     ]
    },
    {
     "name": "stdout",
     "output_type": "stream",
     "text": [
      "{'context': 'input', 'prediction': '<s> <|tasktype|>\\nnatural language inference\\n<|context|>\\nResident Services- Release Notes - Services : \\nFor detailed description of Resident services, the code and design, refer to [resident services repo](https://github.com/mosip/resident-services/releases/tag/vDP1).\\n<|task|>\\n {{context}} Based on the previous passage, is it true that \"Resident services are not detailed.\"? Yes, no, or maybe?\\n<|pipe|>\\nNo</s>'}\n"
     ]
    },
    {
     "name": "stderr",
     "output_type": "stream",
     "text": [
      "Setting `pad_token_id` to `eos_token_id`:2 for open-end generation.\n"
     ]
    },
    {
     "name": "stdout",
     "output_type": "stream",
     "text": [
      "{'context': 'input', 'prediction': '<s> <|tasktype|>\\nnatural language inference\\n<|context|>\\nResident Services- Release Notes - Resident Portal UI : \\nMOSIP provides a reference implementation of the Resident portal that can be customized as per the country’s needs. The sample implementation is available [here](https://github.com/mosip/resident-ui/releases/tag/vDP1).\\n\\nFor getting started with the resident portal, refer to the [Resident Portal User Guide](resident-portal-user-guide.md).\\n<|task|>\\n {{context}} Based on the previous passage, is it true that \"The resident portal is not customizable.\"? Yes, no, or maybe?\\n<|pipe|>\\nNo</s>'}\n"
     ]
    },
    {
     "name": "stderr",
     "output_type": "stream",
     "text": [
      "Setting `pad_token_id` to `eos_token_id`:2 for open-end generation.\n"
     ]
    },
    {
     "name": "stdout",
     "output_type": "stream",
     "text": [
      "{'context': 'input', 'prediction': '<s> <|tasktype|>\\nnatural language inference\\n<|context|>\\nResident Services- Release Notes - Build and Deploy : \\nTo access the build and read through the deployment instructions, refer to the [Resident Services Deployment Guide](https://docs.mosip.io/1.2.0/modules/resident-services/resident-services-deployment-guide).\\n<|task|>\\n {{context}} Based on the previous passage, is it true that \"The deployment guide is 100 pages long.\"? Yes, no, or maybe?\\n<|pipe|>\\nMaybe</s>'}\n"
     ]
    },
    {
     "name": "stderr",
     "output_type": "stream",
     "text": [
      "Setting `pad_token_id` to `eos_token_id`:2 for open-end generation.\n"
     ]
    },
    {
     "name": "stdout",
     "output_type": "stream",
     "text": [
      "{'context': 'input', 'prediction': '<s> <|tasktype|>\\nnatural language inference\\n<|context|>\\nResident Services- Release Notes - Configurations : \\nFor details related to resident portal configurations, refer to the [Configuration Guide](https://docs.mosip.io/1.2.0/modules/resident-services/resident-portal-configuration-guide).\\n<|task|>\\n {{context}} Based on the previous passage, is it true that \"The Configuration Guide is a 100 page document.\"? Yes, no, or maybe?\\n<|pipe|>\\nMaybe</s>'}\n"
     ]
    },
    {
     "name": "stderr",
     "output_type": "stream",
     "text": [
      "Setting `pad_token_id` to `eos_token_id`:2 for open-end generation.\n"
     ]
    },
    {
     "name": "stdout",
     "output_type": "stream",
     "text": [
      "{'context': 'input', 'prediction': '<s> <|tasktype|>\\nnatural language inference\\n<|context|>\\nResident Services- Release Notes - Developers Guide : \\nFor a detailed description of Resident Services, code, design, and setup steps, refer to:\\n1. [Resident Services Developers Guide](resident-services-developer-guide.md)\\n2. [Resident Services UI Developers Guide](resident-services-ui-developer-guide.md)\\n<|task|>\\n {{context}} Based on the previous passage, is it true that \"Resident Services- Release Notes - Developers Guide : \\nFor a detailed description of Resident Services, code, design, and setup steps, refer to:\\n1. [Resident Services Developers Guide](resident-services-developer-guide.md)\\n2. [Resident Services UI Developers Guide](resident-services-ui-developer-guide.md)\\n\\nResident Services is a game.\"? Yes, no, or maybe?\\n<|pipe|>\\nMaybe</s>'}\n"
     ]
    },
    {
     "name": "stderr",
     "output_type": "stream",
     "text": [
      "Setting `pad_token_id` to `eos_token_id`:2 for open-end generation.\n"
     ]
    },
    {
     "name": "stdout",
     "output_type": "stream",
     "text": [
      "{'context': 'input', 'prediction': '<s> <|tasktype|>\\nnatural language inference\\n<|context|>\\nResident Services- Release Notes - API : \\nRefer [API Documentation](https://mosip.stoplight.io/docs/resident/9a5192571fc51-document).\\n<|task|>\\n {{context}} Based on the previous passage, is it true that \"The API documentation is not available online.\"? Yes, no, or maybe?\\n<|pipe|>\\nNo</s>'}\n"
     ]
    },
    {
     "name": "stderr",
     "output_type": "stream",
     "text": [
      "Setting `pad_token_id` to `eos_token_id`:2 for open-end generation.\n"
     ]
    },
    {
     "name": "stdout",
     "output_type": "stream",
     "text": [
      "{'context': 'input', 'prediction': '<s> <|tasktype|>\\nnatural language inference\\n<|context|>\\nResident Services- Release Notes - Test Report : \\nFor details on the test results, refer [here](https://github.com/mosip/test-management/tree/master/).\\n<|task|>\\n {{context}} Based on the previous passage, is it true that \"The test results are not available.\"? Yes, no, or maybe?\\n<|pipe|>\\nNo</s>'}\n"
     ]
    },
    {
     "name": "stderr",
     "output_type": "stream",
     "text": [
      "Setting `pad_token_id` to `eos_token_id`:2 for open-end generation.\n"
     ]
    },
    {
     "name": "stdout",
     "output_type": "stream",
     "text": [
      "{'context': 'input', 'prediction': '<s> <|tasktype|>\\nnatural language inference\\n<|context|>\\n🌍 Country Implementation - Overview : \\nThis is a guide to implement MOSIP for a country. It is advised that Government and System Integrators (SI) study the recommended steps to work out an appropriate implementation strategy. The items are in \"near-chronological order\" and may differ for an implementation.\\n<|task|>\\n {{context}} Based on the previous passage, is it true that \"The items are in \"near-chronological order\" and may differ for an implementation. The items are in \"near-chronological order\" and may differ for an implementation. The items are in \"near-chronological order\" and may differ for an implementation. \"? Yes, no, or maybe?\\n<|pipe|>\\nYes</s>'}\n"
     ]
    },
    {
     "name": "stderr",
     "output_type": "stream",
     "text": [
      "Setting `pad_token_id` to `eos_token_id`:2 for open-end generation.\n"
     ]
    },
    {
     "name": "stdout",
     "output_type": "stream",
     "text": [
      "{'context': 'input', 'prediction': '<s> <|tasktype|>\\nnatural language inference\\n<|context|>\\n🌍 Country Implementation - Key decisions : \\n1. Choice of deployment of [Pre-registration](id-lifecycle-management.md#pre-registration).\\n2. Rate of enrolment desired.\\n3. Rate of authentication expected.\\n4. [Languages](module-configuration.md#languages).\\n5. Customisation and procurement of components as given [here](reference-implementations.md).\\n6. [ID schema](id-schema.md) (as prescribed by the country\\'s regulatory authority).\\n7. Hardware requirements estimate.\\n   * [Server side](https://github.com/mosip/documentation/tree/develop/docs/\\\\_files)\\n   * [Devices](\\\\_files/mosip-devices-calculator.xlsx)\\n8. [Credential choices](id-repository.md#credential-types).\\n9. ID Card print design.\\n10. MOSIP versions.\\n11. MOSIP support (scope).\\n12. Disaster recovery strategy.\\n13. Phased approach for rollout.\\n<|task|>\\n {{context}} Based on the previous passage, is it true that \"The country\\'s regulatory authority is not involved in the decision making process.\"? Yes, no, or maybe?\\n<|pipe|>\\nNo</s>'}\n"
     ]
    },
    {
     "name": "stderr",
     "output_type": "stream",
     "text": [
      "Setting `pad_token_id` to `eos_token_id`:2 for open-end generation.\n"
     ]
    },
    {
     "name": "stdout",
     "output_type": "stream",
     "text": [
      "{'context': 'input', 'prediction': '<s> <|tasktype|>\\nnatural language inference\\n<|context|>\\n🌍 Country Implementation - Procurement : \\n1. Engagement with an SI - terms and conditions.\\n2. Procurement of biometric and other external components.\\n3. HSM\\n4. [Postgres](https://docs.mosip.io/1.2.0/modules/persistence/postgres-db))\\n5. [Object store](https://docs.mosip.io/1.2.0/modules/persistence/object-store)\\n6. Compute hardware\\n<|task|>\\n {{context}} Based on the previous passage, is it true that \"The terms and conditions are not very long.\"? Yes, no, or maybe?\\n<|pipe|>\\nMaybe</s>'}\n"
     ]
    }
   ],
   "source": [
    "# collect multiple generations into one dataset object\n",
    "examples = []\n",
    "\n",
    "for i, example in enumerate(mosipds.to_list()):\n",
    "    input_ids = tokenizer(processed_dataset[\"input\"][i], return_tensors=\"pt\", padding=True)\n",
    "    outputs = model.generate(**input_ids, max_new_tokens=256, top_p=0.95, temperature=0.7)\n",
    "    examples.append(\n",
    "        {\"context\": \"input\", \"prediction\": tokenizer.decode(outputs[0])}\n",
    "    )\n",
    "    print(examples[-1])"
   ]
  },
  {
   "cell_type": "code",
   "execution_count": null,
   "id": "115d64e9-6cfc-4828-836d-64da55aca650",
   "metadata": {},
   "outputs": [],
   "source": [
    "synthetic_dataset = Dataset.from_list(examples)\n",
    "\n",
    "# filter out the examples that cannot be parsed\n",
    "synthetic_dataset = postprocess_dataset(\n",
    "    synthetic_dataset, context_col=\"context\"\n",
    ")\n",
    "\n",
    "synthetic_dataset.save_to_disk(\"datasets/mosip_bonito.hf\")"
   ]
  },
  {
   "cell_type": "code",
   "execution_count": null,
   "id": "b0867197-5455-4e5b-83e2-76185af422ed",
   "metadata": {},
   "outputs": [],
   "source": []
  }
 ],
 "metadata": {
  "kernelspec": {
   "display_name": "Python",
   "language": "python",
   "name": "sys_python"
  },
  "language_info": {
   "codemirror_mode": {
    "name": "ipython",
    "version": 3
   },
   "file_extension": ".py",
   "mimetype": "text/x-python",
   "name": "python",
   "nbconvert_exporter": "python",
   "pygments_lexer": "ipython3",
   "version": "3.9.5"
  }
 },
 "nbformat": 4,
 "nbformat_minor": 5
}
